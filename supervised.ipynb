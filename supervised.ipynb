{
 "cells": [
  {
   "cell_type": "markdown",
   "metadata": {},
   "source": [
    "## Importando librerías a usar"
   ]
  },
  {
   "cell_type": "code",
   "execution_count": 3,
   "metadata": {},
   "outputs": [],
   "source": [
    "import sys\n",
    "import pandas as pd\n",
    "import numpy as np\n",
    "import sklearn\n",
    "import matplotlib\n",
    "import keras\n",
    "import matplotlib.pyplot as plt\n",
    "from pandas.plotting import scatter_matrix\n",
    "import seaborn as sns"
   ]
  },
  {
   "cell_type": "markdown",
   "metadata": {},
   "source": [
    "# 1. Importar el Dataset"
   ]
  },
  {
   "cell_type": "markdown",
   "metadata": {},
   "source": [
    "El dataset está disponible a través de la Universidad de California, en su repositorio de Machine Learning. Esta es la URL:\n",
    "\n",
    "http:////archive.ics.uci.edu/ml/datasets/Heart+Disease\n",
    "\n",
    "Este dataset contiene datos de pacientes sobre diagnosticos de enfermedades del corazón, que fue recolectado de muchas localizaciones alrrededor del mundo. Hay 76 atributos, incluidos edad, sexo, presión sanguinea en reposo, niveles de coleterol, datos del ecocardiograma, habitos de ejercicio, y muchos otros. Todos los estudios publicados usan esto datos enfocandose en un subconjunto de 14 atributos, así que haremos lo mismo. Mas especificamente, usaremos los datos extraidos de la Fundación Clinica de Cleveland (Cleveland Clinic Fundation).\n",
    "\n",
    "Para importar los datos necesarios usaremos la función construida en pandas read_csv()."
   ]
  },
  {
   "cell_type": "code",
   "execution_count": 4,
   "metadata": {},
   "outputs": [
    {
     "data": {
      "text/html": [
       "<div>\n",
       "<style scoped>\n",
       "    .dataframe tbody tr th:only-of-type {\n",
       "        vertical-align: middle;\n",
       "    }\n",
       "\n",
       "    .dataframe tbody tr th {\n",
       "        vertical-align: top;\n",
       "    }\n",
       "\n",
       "    .dataframe thead th {\n",
       "        text-align: right;\n",
       "    }\n",
       "</style>\n",
       "<table border=\"1\" class=\"dataframe\">\n",
       "  <thead>\n",
       "    <tr style=\"text-align: right;\">\n",
       "      <th></th>\n",
       "      <th>age</th>\n",
       "      <th>sex</th>\n",
       "      <th>cp</th>\n",
       "      <th>trestbps</th>\n",
       "      <th>chol</th>\n",
       "      <th>fbs</th>\n",
       "      <th>restecg</th>\n",
       "      <th>thalach</th>\n",
       "      <th>exang</th>\n",
       "      <th>oldpeak</th>\n",
       "      <th>slope</th>\n",
       "      <th>ca</th>\n",
       "      <th>thal</th>\n",
       "      <th>target</th>\n",
       "    </tr>\n",
       "  </thead>\n",
       "  <tbody>\n",
       "    <tr>\n",
       "      <th>0</th>\n",
       "      <td>63</td>\n",
       "      <td>1</td>\n",
       "      <td>3</td>\n",
       "      <td>145</td>\n",
       "      <td>233</td>\n",
       "      <td>1</td>\n",
       "      <td>0</td>\n",
       "      <td>150</td>\n",
       "      <td>0</td>\n",
       "      <td>2.3</td>\n",
       "      <td>0</td>\n",
       "      <td>0</td>\n",
       "      <td>1</td>\n",
       "      <td>1</td>\n",
       "    </tr>\n",
       "    <tr>\n",
       "      <th>1</th>\n",
       "      <td>37</td>\n",
       "      <td>1</td>\n",
       "      <td>2</td>\n",
       "      <td>130</td>\n",
       "      <td>250</td>\n",
       "      <td>0</td>\n",
       "      <td>1</td>\n",
       "      <td>187</td>\n",
       "      <td>0</td>\n",
       "      <td>3.5</td>\n",
       "      <td>0</td>\n",
       "      <td>0</td>\n",
       "      <td>2</td>\n",
       "      <td>1</td>\n",
       "    </tr>\n",
       "    <tr>\n",
       "      <th>2</th>\n",
       "      <td>41</td>\n",
       "      <td>0</td>\n",
       "      <td>1</td>\n",
       "      <td>130</td>\n",
       "      <td>204</td>\n",
       "      <td>0</td>\n",
       "      <td>0</td>\n",
       "      <td>172</td>\n",
       "      <td>0</td>\n",
       "      <td>1.4</td>\n",
       "      <td>2</td>\n",
       "      <td>0</td>\n",
       "      <td>2</td>\n",
       "      <td>1</td>\n",
       "    </tr>\n",
       "    <tr>\n",
       "      <th>3</th>\n",
       "      <td>56</td>\n",
       "      <td>1</td>\n",
       "      <td>1</td>\n",
       "      <td>120</td>\n",
       "      <td>236</td>\n",
       "      <td>0</td>\n",
       "      <td>1</td>\n",
       "      <td>178</td>\n",
       "      <td>0</td>\n",
       "      <td>0.8</td>\n",
       "      <td>2</td>\n",
       "      <td>0</td>\n",
       "      <td>2</td>\n",
       "      <td>1</td>\n",
       "    </tr>\n",
       "    <tr>\n",
       "      <th>4</th>\n",
       "      <td>57</td>\n",
       "      <td>0</td>\n",
       "      <td>0</td>\n",
       "      <td>120</td>\n",
       "      <td>354</td>\n",
       "      <td>0</td>\n",
       "      <td>1</td>\n",
       "      <td>163</td>\n",
       "      <td>1</td>\n",
       "      <td>0.6</td>\n",
       "      <td>2</td>\n",
       "      <td>0</td>\n",
       "      <td>2</td>\n",
       "      <td>1</td>\n",
       "    </tr>\n",
       "    <tr>\n",
       "      <th>...</th>\n",
       "      <td>...</td>\n",
       "      <td>...</td>\n",
       "      <td>...</td>\n",
       "      <td>...</td>\n",
       "      <td>...</td>\n",
       "      <td>...</td>\n",
       "      <td>...</td>\n",
       "      <td>...</td>\n",
       "      <td>...</td>\n",
       "      <td>...</td>\n",
       "      <td>...</td>\n",
       "      <td>...</td>\n",
       "      <td>...</td>\n",
       "      <td>...</td>\n",
       "    </tr>\n",
       "    <tr>\n",
       "      <th>298</th>\n",
       "      <td>57</td>\n",
       "      <td>0</td>\n",
       "      <td>0</td>\n",
       "      <td>140</td>\n",
       "      <td>241</td>\n",
       "      <td>0</td>\n",
       "      <td>1</td>\n",
       "      <td>123</td>\n",
       "      <td>1</td>\n",
       "      <td>0.2</td>\n",
       "      <td>1</td>\n",
       "      <td>0</td>\n",
       "      <td>3</td>\n",
       "      <td>0</td>\n",
       "    </tr>\n",
       "    <tr>\n",
       "      <th>299</th>\n",
       "      <td>45</td>\n",
       "      <td>1</td>\n",
       "      <td>3</td>\n",
       "      <td>110</td>\n",
       "      <td>264</td>\n",
       "      <td>0</td>\n",
       "      <td>1</td>\n",
       "      <td>132</td>\n",
       "      <td>0</td>\n",
       "      <td>1.2</td>\n",
       "      <td>1</td>\n",
       "      <td>0</td>\n",
       "      <td>3</td>\n",
       "      <td>0</td>\n",
       "    </tr>\n",
       "    <tr>\n",
       "      <th>300</th>\n",
       "      <td>68</td>\n",
       "      <td>1</td>\n",
       "      <td>0</td>\n",
       "      <td>144</td>\n",
       "      <td>193</td>\n",
       "      <td>1</td>\n",
       "      <td>1</td>\n",
       "      <td>141</td>\n",
       "      <td>0</td>\n",
       "      <td>3.4</td>\n",
       "      <td>1</td>\n",
       "      <td>2</td>\n",
       "      <td>3</td>\n",
       "      <td>0</td>\n",
       "    </tr>\n",
       "    <tr>\n",
       "      <th>301</th>\n",
       "      <td>57</td>\n",
       "      <td>1</td>\n",
       "      <td>0</td>\n",
       "      <td>130</td>\n",
       "      <td>131</td>\n",
       "      <td>0</td>\n",
       "      <td>1</td>\n",
       "      <td>115</td>\n",
       "      <td>1</td>\n",
       "      <td>1.2</td>\n",
       "      <td>1</td>\n",
       "      <td>1</td>\n",
       "      <td>3</td>\n",
       "      <td>0</td>\n",
       "    </tr>\n",
       "    <tr>\n",
       "      <th>302</th>\n",
       "      <td>57</td>\n",
       "      <td>0</td>\n",
       "      <td>1</td>\n",
       "      <td>130</td>\n",
       "      <td>236</td>\n",
       "      <td>0</td>\n",
       "      <td>0</td>\n",
       "      <td>174</td>\n",
       "      <td>0</td>\n",
       "      <td>0.0</td>\n",
       "      <td>1</td>\n",
       "      <td>1</td>\n",
       "      <td>2</td>\n",
       "      <td>0</td>\n",
       "    </tr>\n",
       "  </tbody>\n",
       "</table>\n",
       "<p>303 rows × 14 columns</p>\n",
       "</div>"
      ],
      "text/plain": [
       "     age  sex  cp  trestbps  chol  fbs  restecg  thalach  exang  oldpeak  \\\n",
       "0     63    1   3       145   233    1        0      150      0      2.3   \n",
       "1     37    1   2       130   250    0        1      187      0      3.5   \n",
       "2     41    0   1       130   204    0        0      172      0      1.4   \n",
       "3     56    1   1       120   236    0        1      178      0      0.8   \n",
       "4     57    0   0       120   354    0        1      163      1      0.6   \n",
       "..   ...  ...  ..       ...   ...  ...      ...      ...    ...      ...   \n",
       "298   57    0   0       140   241    0        1      123      1      0.2   \n",
       "299   45    1   3       110   264    0        1      132      0      1.2   \n",
       "300   68    1   0       144   193    1        1      141      0      3.4   \n",
       "301   57    1   0       130   131    0        1      115      1      1.2   \n",
       "302   57    0   1       130   236    0        0      174      0      0.0   \n",
       "\n",
       "     slope  ca  thal  target  \n",
       "0        0   0     1       1  \n",
       "1        0   0     2       1  \n",
       "2        2   0     2       1  \n",
       "3        2   0     2       1  \n",
       "4        2   0     2       1  \n",
       "..     ...  ..   ...     ...  \n",
       "298      1   0     3       0  \n",
       "299      1   0     3       0  \n",
       "300      1   2     3       0  \n",
       "301      1   1     3       0  \n",
       "302      1   1     2       0  \n",
       "\n",
       "[303 rows x 14 columns]"
      ]
     },
     "execution_count": 4,
     "metadata": {},
     "output_type": "execute_result"
    }
   ],
   "source": [
    "# Leer el csv\n",
    "DATOS = pd.read_csv('datasets/supervised/heart.csv')\n",
    "\n",
    "# Mostrar los datos\n",
    "DATOS"
   ]
  },
  {
   "cell_type": "code",
   "execution_count": 6,
   "metadata": {},
   "outputs": [
    {
     "data": {
      "text/html": [
       "<div>\n",
       "<style scoped>\n",
       "    .dataframe tbody tr th:only-of-type {\n",
       "        vertical-align: middle;\n",
       "    }\n",
       "\n",
       "    .dataframe tbody tr th {\n",
       "        vertical-align: top;\n",
       "    }\n",
       "\n",
       "    .dataframe thead th {\n",
       "        text-align: right;\n",
       "    }\n",
       "</style>\n",
       "<table border=\"1\" class=\"dataframe\">\n",
       "  <thead>\n",
       "    <tr style=\"text-align: right;\">\n",
       "      <th></th>\n",
       "      <th>age</th>\n",
       "      <th>sex</th>\n",
       "      <th>cp</th>\n",
       "      <th>trestbps</th>\n",
       "      <th>chol</th>\n",
       "      <th>fbs</th>\n",
       "      <th>restecg</th>\n",
       "      <th>thalach</th>\n",
       "      <th>exang</th>\n",
       "      <th>oldpeak</th>\n",
       "      <th>slope</th>\n",
       "      <th>ca</th>\n",
       "      <th>thal</th>\n",
       "      <th>target</th>\n",
       "    </tr>\n",
       "  </thead>\n",
       "  <tbody>\n",
       "    <tr>\n",
       "      <th>0</th>\n",
       "      <td>63</td>\n",
       "      <td>1</td>\n",
       "      <td>3</td>\n",
       "      <td>145</td>\n",
       "      <td>233</td>\n",
       "      <td>1</td>\n",
       "      <td>0</td>\n",
       "      <td>150</td>\n",
       "      <td>0</td>\n",
       "      <td>2.3</td>\n",
       "      <td>0</td>\n",
       "      <td>0</td>\n",
       "      <td>1</td>\n",
       "      <td>1</td>\n",
       "    </tr>\n",
       "    <tr>\n",
       "      <th>1</th>\n",
       "      <td>37</td>\n",
       "      <td>1</td>\n",
       "      <td>2</td>\n",
       "      <td>130</td>\n",
       "      <td>250</td>\n",
       "      <td>0</td>\n",
       "      <td>1</td>\n",
       "      <td>187</td>\n",
       "      <td>0</td>\n",
       "      <td>3.5</td>\n",
       "      <td>0</td>\n",
       "      <td>0</td>\n",
       "      <td>2</td>\n",
       "      <td>1</td>\n",
       "    </tr>\n",
       "    <tr>\n",
       "      <th>2</th>\n",
       "      <td>41</td>\n",
       "      <td>0</td>\n",
       "      <td>1</td>\n",
       "      <td>130</td>\n",
       "      <td>204</td>\n",
       "      <td>0</td>\n",
       "      <td>0</td>\n",
       "      <td>172</td>\n",
       "      <td>0</td>\n",
       "      <td>1.4</td>\n",
       "      <td>2</td>\n",
       "      <td>0</td>\n",
       "      <td>2</td>\n",
       "      <td>1</td>\n",
       "    </tr>\n",
       "    <tr>\n",
       "      <th>3</th>\n",
       "      <td>56</td>\n",
       "      <td>1</td>\n",
       "      <td>1</td>\n",
       "      <td>120</td>\n",
       "      <td>236</td>\n",
       "      <td>0</td>\n",
       "      <td>1</td>\n",
       "      <td>178</td>\n",
       "      <td>0</td>\n",
       "      <td>0.8</td>\n",
       "      <td>2</td>\n",
       "      <td>0</td>\n",
       "      <td>2</td>\n",
       "      <td>1</td>\n",
       "    </tr>\n",
       "    <tr>\n",
       "      <th>4</th>\n",
       "      <td>57</td>\n",
       "      <td>0</td>\n",
       "      <td>0</td>\n",
       "      <td>120</td>\n",
       "      <td>354</td>\n",
       "      <td>0</td>\n",
       "      <td>1</td>\n",
       "      <td>163</td>\n",
       "      <td>1</td>\n",
       "      <td>0.6</td>\n",
       "      <td>2</td>\n",
       "      <td>0</td>\n",
       "      <td>2</td>\n",
       "      <td>1</td>\n",
       "    </tr>\n",
       "    <tr>\n",
       "      <th>...</th>\n",
       "      <td>...</td>\n",
       "      <td>...</td>\n",
       "      <td>...</td>\n",
       "      <td>...</td>\n",
       "      <td>...</td>\n",
       "      <td>...</td>\n",
       "      <td>...</td>\n",
       "      <td>...</td>\n",
       "      <td>...</td>\n",
       "      <td>...</td>\n",
       "      <td>...</td>\n",
       "      <td>...</td>\n",
       "      <td>...</td>\n",
       "      <td>...</td>\n",
       "    </tr>\n",
       "    <tr>\n",
       "      <th>298</th>\n",
       "      <td>57</td>\n",
       "      <td>0</td>\n",
       "      <td>0</td>\n",
       "      <td>140</td>\n",
       "      <td>241</td>\n",
       "      <td>0</td>\n",
       "      <td>1</td>\n",
       "      <td>123</td>\n",
       "      <td>1</td>\n",
       "      <td>0.2</td>\n",
       "      <td>1</td>\n",
       "      <td>0</td>\n",
       "      <td>3</td>\n",
       "      <td>0</td>\n",
       "    </tr>\n",
       "    <tr>\n",
       "      <th>299</th>\n",
       "      <td>45</td>\n",
       "      <td>1</td>\n",
       "      <td>3</td>\n",
       "      <td>110</td>\n",
       "      <td>264</td>\n",
       "      <td>0</td>\n",
       "      <td>1</td>\n",
       "      <td>132</td>\n",
       "      <td>0</td>\n",
       "      <td>1.2</td>\n",
       "      <td>1</td>\n",
       "      <td>0</td>\n",
       "      <td>3</td>\n",
       "      <td>0</td>\n",
       "    </tr>\n",
       "    <tr>\n",
       "      <th>300</th>\n",
       "      <td>68</td>\n",
       "      <td>1</td>\n",
       "      <td>0</td>\n",
       "      <td>144</td>\n",
       "      <td>193</td>\n",
       "      <td>1</td>\n",
       "      <td>1</td>\n",
       "      <td>141</td>\n",
       "      <td>0</td>\n",
       "      <td>3.4</td>\n",
       "      <td>1</td>\n",
       "      <td>2</td>\n",
       "      <td>3</td>\n",
       "      <td>0</td>\n",
       "    </tr>\n",
       "    <tr>\n",
       "      <th>301</th>\n",
       "      <td>57</td>\n",
       "      <td>1</td>\n",
       "      <td>0</td>\n",
       "      <td>130</td>\n",
       "      <td>131</td>\n",
       "      <td>0</td>\n",
       "      <td>1</td>\n",
       "      <td>115</td>\n",
       "      <td>1</td>\n",
       "      <td>1.2</td>\n",
       "      <td>1</td>\n",
       "      <td>1</td>\n",
       "      <td>3</td>\n",
       "      <td>0</td>\n",
       "    </tr>\n",
       "    <tr>\n",
       "      <th>302</th>\n",
       "      <td>57</td>\n",
       "      <td>0</td>\n",
       "      <td>1</td>\n",
       "      <td>130</td>\n",
       "      <td>236</td>\n",
       "      <td>0</td>\n",
       "      <td>0</td>\n",
       "      <td>174</td>\n",
       "      <td>0</td>\n",
       "      <td>0.0</td>\n",
       "      <td>1</td>\n",
       "      <td>1</td>\n",
       "      <td>2</td>\n",
       "      <td>0</td>\n",
       "    </tr>\n",
       "  </tbody>\n",
       "</table>\n",
       "<p>303 rows × 14 columns</p>\n",
       "</div>"
      ],
      "text/plain": [
       "     age  sex  cp  trestbps  chol  fbs  restecg  thalach  exang  oldpeak  \\\n",
       "0     63    1   3       145   233    1        0      150      0      2.3   \n",
       "1     37    1   2       130   250    0        1      187      0      3.5   \n",
       "2     41    0   1       130   204    0        0      172      0      1.4   \n",
       "3     56    1   1       120   236    0        1      178      0      0.8   \n",
       "4     57    0   0       120   354    0        1      163      1      0.6   \n",
       "..   ...  ...  ..       ...   ...  ...      ...      ...    ...      ...   \n",
       "298   57    0   0       140   241    0        1      123      1      0.2   \n",
       "299   45    1   3       110   264    0        1      132      0      1.2   \n",
       "300   68    1   0       144   193    1        1      141      0      3.4   \n",
       "301   57    1   0       130   131    0        1      115      1      1.2   \n",
       "302   57    0   1       130   236    0        0      174      0      0.0   \n",
       "\n",
       "     slope  ca  thal  target  \n",
       "0        0   0     1       1  \n",
       "1        0   0     2       1  \n",
       "2        2   0     2       1  \n",
       "3        2   0     2       1  \n",
       "4        2   0     2       1  \n",
       "..     ...  ..   ...     ...  \n",
       "298      1   0     3       0  \n",
       "299      1   0     3       0  \n",
       "300      1   2     3       0  \n",
       "301      1   1     3       0  \n",
       "302      1   1     2       0  \n",
       "\n",
       "[303 rows x 14 columns]"
      ]
     },
     "execution_count": 6,
     "metadata": {},
     "output_type": "execute_result"
    }
   ],
   "source": [
    "# Eliminar datos perdidos (indicados con una '?')\n",
    "DATOS = DATOS[ ~ DATOS.isin(['?'])]\n",
    "\n",
    "# Quitar filas con values NaN del DataFrame\n",
    "DATOS = DATOS.dropna(axis = 0)\n",
    "\n",
    "# Mostrar datos pre-procesados\n",
    "DATOS"
   ]
  },
  {
   "cell_type": "code",
   "execution_count": 8,
   "metadata": {},
   "outputs": [
    {
     "name": "stdout",
     "output_type": "stream",
     "text": [
      "(303, 14)\n",
      "age           int64\n",
      "sex           int64\n",
      "cp            int64\n",
      "trestbps      int64\n",
      "chol          int64\n",
      "fbs           int64\n",
      "restecg       int64\n",
      "thalach       int64\n",
      "exang         int64\n",
      "oldpeak     float64\n",
      "slope         int64\n",
      "ca            int64\n",
      "thal          int64\n",
      "target        int64\n",
      "dtype: object\n"
     ]
    }
   ],
   "source": [
    "# Mostrar la forma y los tipos de datos del DataFrame\n",
    "print(DATOS.shape)\n",
    "print(DATOS.dtypes)"
   ]
  },
  {
   "cell_type": "code",
   "execution_count": 10,
   "metadata": {},
   "outputs": [
    {
     "data": {
      "text/plain": [
       "age           int64\n",
       "sex           int64\n",
       "cp            int64\n",
       "trestbps      int64\n",
       "chol          int64\n",
       "fbs           int64\n",
       "restecg       int64\n",
       "thalach       int64\n",
       "exang         int64\n",
       "oldpeak     float64\n",
       "slope         int64\n",
       "ca            int64\n",
       "thal          int64\n",
       "target        int64\n",
       "dtype: object"
      ]
     },
     "execution_count": 10,
     "metadata": {},
     "output_type": "execute_result"
    }
   ],
   "source": [
    "# Trasformar los datos a numéricos para habilitar un análisis mas extenso\n",
    "DATOS = DATOS.apply(pd.to_numeric)\n",
    "DATOS.dtypes"
   ]
  },
  {
   "cell_type": "code",
   "execution_count": 11,
   "metadata": {},
   "outputs": [
    {
     "data": {
      "text/html": [
       "<div>\n",
       "<style scoped>\n",
       "    .dataframe tbody tr th:only-of-type {\n",
       "        vertical-align: middle;\n",
       "    }\n",
       "\n",
       "    .dataframe tbody tr th {\n",
       "        vertical-align: top;\n",
       "    }\n",
       "\n",
       "    .dataframe thead th {\n",
       "        text-align: right;\n",
       "    }\n",
       "</style>\n",
       "<table border=\"1\" class=\"dataframe\">\n",
       "  <thead>\n",
       "    <tr style=\"text-align: right;\">\n",
       "      <th></th>\n",
       "      <th>age</th>\n",
       "      <th>sex</th>\n",
       "      <th>cp</th>\n",
       "      <th>trestbps</th>\n",
       "      <th>chol</th>\n",
       "      <th>fbs</th>\n",
       "      <th>restecg</th>\n",
       "      <th>thalach</th>\n",
       "      <th>exang</th>\n",
       "      <th>oldpeak</th>\n",
       "      <th>slope</th>\n",
       "      <th>ca</th>\n",
       "      <th>thal</th>\n",
       "      <th>target</th>\n",
       "    </tr>\n",
       "  </thead>\n",
       "  <tbody>\n",
       "    <tr>\n",
       "      <th>count</th>\n",
       "      <td>303.000000</td>\n",
       "      <td>303.000000</td>\n",
       "      <td>303.000000</td>\n",
       "      <td>303.000000</td>\n",
       "      <td>303.000000</td>\n",
       "      <td>303.000000</td>\n",
       "      <td>303.000000</td>\n",
       "      <td>303.000000</td>\n",
       "      <td>303.000000</td>\n",
       "      <td>303.000000</td>\n",
       "      <td>303.000000</td>\n",
       "      <td>303.000000</td>\n",
       "      <td>303.000000</td>\n",
       "      <td>303.000000</td>\n",
       "    </tr>\n",
       "    <tr>\n",
       "      <th>mean</th>\n",
       "      <td>54.366337</td>\n",
       "      <td>0.683168</td>\n",
       "      <td>0.966997</td>\n",
       "      <td>131.623762</td>\n",
       "      <td>246.264026</td>\n",
       "      <td>0.148515</td>\n",
       "      <td>0.528053</td>\n",
       "      <td>149.646865</td>\n",
       "      <td>0.326733</td>\n",
       "      <td>1.039604</td>\n",
       "      <td>1.399340</td>\n",
       "      <td>0.729373</td>\n",
       "      <td>2.313531</td>\n",
       "      <td>0.544554</td>\n",
       "    </tr>\n",
       "    <tr>\n",
       "      <th>std</th>\n",
       "      <td>9.082101</td>\n",
       "      <td>0.466011</td>\n",
       "      <td>1.032052</td>\n",
       "      <td>17.538143</td>\n",
       "      <td>51.830751</td>\n",
       "      <td>0.356198</td>\n",
       "      <td>0.525860</td>\n",
       "      <td>22.905161</td>\n",
       "      <td>0.469794</td>\n",
       "      <td>1.161075</td>\n",
       "      <td>0.616226</td>\n",
       "      <td>1.022606</td>\n",
       "      <td>0.612277</td>\n",
       "      <td>0.498835</td>\n",
       "    </tr>\n",
       "    <tr>\n",
       "      <th>min</th>\n",
       "      <td>29.000000</td>\n",
       "      <td>0.000000</td>\n",
       "      <td>0.000000</td>\n",
       "      <td>94.000000</td>\n",
       "      <td>126.000000</td>\n",
       "      <td>0.000000</td>\n",
       "      <td>0.000000</td>\n",
       "      <td>71.000000</td>\n",
       "      <td>0.000000</td>\n",
       "      <td>0.000000</td>\n",
       "      <td>0.000000</td>\n",
       "      <td>0.000000</td>\n",
       "      <td>0.000000</td>\n",
       "      <td>0.000000</td>\n",
       "    </tr>\n",
       "    <tr>\n",
       "      <th>25%</th>\n",
       "      <td>47.500000</td>\n",
       "      <td>0.000000</td>\n",
       "      <td>0.000000</td>\n",
       "      <td>120.000000</td>\n",
       "      <td>211.000000</td>\n",
       "      <td>0.000000</td>\n",
       "      <td>0.000000</td>\n",
       "      <td>133.500000</td>\n",
       "      <td>0.000000</td>\n",
       "      <td>0.000000</td>\n",
       "      <td>1.000000</td>\n",
       "      <td>0.000000</td>\n",
       "      <td>2.000000</td>\n",
       "      <td>0.000000</td>\n",
       "    </tr>\n",
       "    <tr>\n",
       "      <th>50%</th>\n",
       "      <td>55.000000</td>\n",
       "      <td>1.000000</td>\n",
       "      <td>1.000000</td>\n",
       "      <td>130.000000</td>\n",
       "      <td>240.000000</td>\n",
       "      <td>0.000000</td>\n",
       "      <td>1.000000</td>\n",
       "      <td>153.000000</td>\n",
       "      <td>0.000000</td>\n",
       "      <td>0.800000</td>\n",
       "      <td>1.000000</td>\n",
       "      <td>0.000000</td>\n",
       "      <td>2.000000</td>\n",
       "      <td>1.000000</td>\n",
       "    </tr>\n",
       "    <tr>\n",
       "      <th>75%</th>\n",
       "      <td>61.000000</td>\n",
       "      <td>1.000000</td>\n",
       "      <td>2.000000</td>\n",
       "      <td>140.000000</td>\n",
       "      <td>274.500000</td>\n",
       "      <td>0.000000</td>\n",
       "      <td>1.000000</td>\n",
       "      <td>166.000000</td>\n",
       "      <td>1.000000</td>\n",
       "      <td>1.600000</td>\n",
       "      <td>2.000000</td>\n",
       "      <td>1.000000</td>\n",
       "      <td>3.000000</td>\n",
       "      <td>1.000000</td>\n",
       "    </tr>\n",
       "    <tr>\n",
       "      <th>max</th>\n",
       "      <td>77.000000</td>\n",
       "      <td>1.000000</td>\n",
       "      <td>3.000000</td>\n",
       "      <td>200.000000</td>\n",
       "      <td>564.000000</td>\n",
       "      <td>1.000000</td>\n",
       "      <td>2.000000</td>\n",
       "      <td>202.000000</td>\n",
       "      <td>1.000000</td>\n",
       "      <td>6.200000</td>\n",
       "      <td>2.000000</td>\n",
       "      <td>4.000000</td>\n",
       "      <td>3.000000</td>\n",
       "      <td>1.000000</td>\n",
       "    </tr>\n",
       "  </tbody>\n",
       "</table>\n",
       "</div>"
      ],
      "text/plain": [
       "              age         sex          cp    trestbps        chol         fbs  \\\n",
       "count  303.000000  303.000000  303.000000  303.000000  303.000000  303.000000   \n",
       "mean    54.366337    0.683168    0.966997  131.623762  246.264026    0.148515   \n",
       "std      9.082101    0.466011    1.032052   17.538143   51.830751    0.356198   \n",
       "min     29.000000    0.000000    0.000000   94.000000  126.000000    0.000000   \n",
       "25%     47.500000    0.000000    0.000000  120.000000  211.000000    0.000000   \n",
       "50%     55.000000    1.000000    1.000000  130.000000  240.000000    0.000000   \n",
       "75%     61.000000    1.000000    2.000000  140.000000  274.500000    0.000000   \n",
       "max     77.000000    1.000000    3.000000  200.000000  564.000000    1.000000   \n",
       "\n",
       "          restecg     thalach       exang     oldpeak       slope          ca  \\\n",
       "count  303.000000  303.000000  303.000000  303.000000  303.000000  303.000000   \n",
       "mean     0.528053  149.646865    0.326733    1.039604    1.399340    0.729373   \n",
       "std      0.525860   22.905161    0.469794    1.161075    0.616226    1.022606   \n",
       "min      0.000000   71.000000    0.000000    0.000000    0.000000    0.000000   \n",
       "25%      0.000000  133.500000    0.000000    0.000000    1.000000    0.000000   \n",
       "50%      1.000000  153.000000    0.000000    0.800000    1.000000    0.000000   \n",
       "75%      1.000000  166.000000    1.000000    1.600000    2.000000    1.000000   \n",
       "max      2.000000  202.000000    1.000000    6.200000    2.000000    4.000000   \n",
       "\n",
       "             thal      target  \n",
       "count  303.000000  303.000000  \n",
       "mean     2.313531    0.544554  \n",
       "std      0.612277    0.498835  \n",
       "min      0.000000    0.000000  \n",
       "25%      2.000000    0.000000  \n",
       "50%      2.000000    1.000000  \n",
       "75%      3.000000    1.000000  \n",
       "max      3.000000    1.000000  "
      ]
     },
     "execution_count": 11,
     "metadata": {},
     "output_type": "execute_result"
    }
   ],
   "source": [
    "# Mostrar las características de los datos, usando la función describe() construida en pandas\n",
    "DATOS.describe()"
   ]
  },
  {
   "cell_type": "code",
   "execution_count": 12,
   "metadata": {},
   "outputs": [
    {
     "data": {
      "image/png": "[encoded data removed]",
      "text/plain": [
       "<Figure size 864x864 with 16 Axes>"
      ]
     },
     "metadata": {
      "needs_background": "light"
     },
     "output_type": "display_data"
    }
   ],
   "source": [
    "# Dibujar un histograma para cada variable\n",
    "DATOS.hist(figsize = (12, 12))\n",
    "plt.show()"
   ]
  },
  {
   "cell_type": "code",
   "execution_count": 13,
   "metadata": {},
   "outputs": [
    {
     "data": {
      "image/png": "[encoded data removed]",
      "text/plain": [
       "<Figure size 1440x432 with 1 Axes>"
      ]
     },
     "metadata": {
      "needs_background": "light"
     },
     "output_type": "display_data"
    }
   ],
   "source": [
    "pd.crosstab(DATOS.age,DATOS.target).plot(kind = 'bar',figsize = (20,6))\n",
    "plt.title('Heart Disease Frequency for Ages')\n",
    "plt.xlabel('Age')\n",
    "plt.ylabel('Frequency')\n",
    "plt.show()"
   ]
  },
  {
   "cell_type": "code",
   "execution_count": 15,
   "metadata": {},
   "outputs": [
    {
     "data": {
      "image/png": "[encoded data removed]",
      "text/plain": [
       "<Figure size 720x720 with 2 Axes>"
      ]
     },
     "metadata": {
      "needs_background": "light"
     },
     "output_type": "display_data"
    }
   ],
   "source": [
    "plt.figure(figsize=(10,10))\n",
    "sns.heatmap(DATOS.corr(),annot=True,fmt='.1f')\n",
    "plt.show()"
   ]
  },
  {
   "cell_type": "code",
   "execution_count": 19,
   "metadata": {},
   "outputs": [
    {
     "data": {
      "image/png": "[encoded data removed]",
      "text/plain": [
       "<Figure size 720x360 with 1 Axes>"
      ]
     },
     "metadata": {
      "needs_background": "light"
     },
     "output_type": "display_data"
    }
   ],
   "source": [
    "age_unique = sorted(DATOS.age.unique())\n",
    "age_thalach_values = DATOS.groupby('age')['thalach'].count().values\n",
    "mean_thalach = []\n",
    "for i, age in enumerate(age_unique):\n",
    "    mean_thalach.append(sum(DATOS[DATOS['age'] == age].thalach) / age_thalach_values[i])\n",
    "    \n",
    "plt.figure(figsize = (10, 5))\n",
    "sns.pointplot(x = age_unique, y = mean_thalach, color = 'red', alpha = 0.8)\n",
    "plt.xlabel('Age', fontsize = 15, color = 'blue')\n",
    "plt.xticks(rotation = 45)\n",
    "plt.ylabel('Thalach', fontsize = 15, color = 'blue')\n",
    "plt.title('Age vs Thalach', fontsize = 15,color='blue')\n",
    "plt.grid()\n",
    "plt.show()"
   ]
  },
  {
   "cell_type": "markdown",
   "metadata": {},
   "source": [
    "# 2. Crear los conjuntos de entremiento y de pruebas"
   ]
  },
  {
   "cell_type": "markdown",
   "metadata": {},
   "source": [
    "Ahora que hemos pre-procesado los datos correctamente, podemos dividirlos en conjuntos de entrenamiento y de pruebas. Usaremos la funcion de Sklearn train_test_split() para generar el conjunto de entrenamiento (con el 80% del total de los datos) y el conjunto de pruebas (con el 20% del total de los datos)."
   ]
  },
  {
   "cell_type": "code",
   "execution_count": 22,
   "metadata": {},
   "outputs": [
    {
     "name": "stderr",
     "output_type": "stream",
     "text": [
      "/tmp/ipykernel_12319/1899067287.py:1: FutureWarning: In a future version of pandas all arguments of DataFrame.drop except for the argument 'labels' will be keyword-only.\n",
      "  X = np.array(DATOS.drop(['target'], 1))\n"
     ]
    }
   ],
   "source": [
    "X = np.array(DATOS.drop(['target'], 1))\n",
    "y = np.array(DATOS['target'])"
   ]
  },
  {
   "cell_type": "code",
   "execution_count": 23,
   "metadata": {},
   "outputs": [
    {
     "data": {
      "text/plain": [
       "array([ 63. ,   1. ,   3. , 145. , 233. ,   1. ,   0. , 150. ,   0. ,\n",
       "         2.3,   0. ,   0. ,   1. ])"
      ]
     },
     "execution_count": 23,
     "metadata": {},
     "output_type": "execute_result"
    }
   ],
   "source": [
    "X[0]"
   ]
  },
  {
   "cell_type": "code",
   "execution_count": 24,
   "metadata": {},
   "outputs": [],
   "source": [
    "mean = X.mean(axis = 0)\n",
    "X -= mean\n",
    "std = X.std(axis = 0)\n",
    "X /= std"
   ]
  },
  {
   "cell_type": "code",
   "execution_count": 25,
   "metadata": {},
   "outputs": [
    {
     "data": {
      "text/plain": [
       "array([ 0.9521966 ,  0.68100522,  1.97312292,  0.76395577, -0.25633371,\n",
       "        2.394438  , -1.00583187,  0.01544279, -0.69663055,  1.08733806,\n",
       "       -2.27457861, -0.71442887, -2.14887271])"
      ]
     },
     "execution_count": 25,
     "metadata": {},
     "output_type": "execute_result"
    }
   ],
   "source": [
    "X[0]"
   ]
  },
  {
   "cell_type": "code",
   "execution_count": 26,
   "metadata": {},
   "outputs": [],
   "source": [
    "# Crear conjuntos X e Y para entrenamiento\n",
    "from sklearn import model_selection\n",
    "\n",
    "X_train, X_test, y_train, y_test = model_selection.train_test_split(X, y, stratify = y, random_state = 42, test_size = 0.2)"
   ]
  },
  {
   "cell_type": "code",
   "execution_count": 27,
   "metadata": {},
   "outputs": [
    {
     "name": "stdout",
     "output_type": "stream",
     "text": [
      "(242, 2)\n",
      "[[0. 1.]\n",
      " [1. 0.]\n",
      " [1. 0.]\n",
      " [1. 0.]\n",
      " [0. 1.]\n",
      " [0. 1.]\n",
      " [0. 1.]\n",
      " [0. 1.]\n",
      " [1. 0.]\n",
      " [0. 1.]]\n"
     ]
    }
   ],
   "source": [
    "# Convertir los datos a etiquetas categóricas\n",
    "from keras.utils.np_utils import to_categorical\n",
    "\n",
    "Y_train = to_categorical(y_train, num_classes = None)\n",
    "Y_test = to_categorical(y_test, num_classes = None)\n",
    "print (Y_train.shape)\n",
    "print (Y_train[:10])"
   ]
  },
  {
   "cell_type": "code",
   "execution_count": 28,
   "metadata": {},
   "outputs": [
    {
     "data": {
      "text/plain": [
       "array([ 1.61392956, -1.46841752,  1.97312292,  0.47839125, -0.14038081,\n",
       "       -0.41763453,  0.89896224,  0.05917329, -0.69663055,  0.65599028,\n",
       "        0.97635214,  1.24459328, -0.51292188])"
      ]
     },
     "execution_count": 28,
     "metadata": {},
     "output_type": "execute_result"
    }
   ],
   "source": [
    "X_train[0]"
   ]
  },
  {
   "cell_type": "markdown",
   "metadata": {},
   "source": [
    "# 3. Construir y entrenar la red neuronal"
   ]
  },
  {
   "cell_type": "markdown",
   "metadata": {},
   "source": [
    "Con los datos divididos en conjuntos de entrenamiento y de pruebas, podemos empezar a construir la red neuronal para resolver el problema de clasificación. Usando Keras, definiremos un red neuronal simple con una capa oculta. Como este es un problema de clasificación categórica, usaremos una function de activacion softmax en la capa final de nuestra red neuronal y una perdida categorical_crossentropy durante la fase de entrenamiento."
   ]
  },
  {
   "cell_type": "code",
   "execution_count": 31,
   "metadata": {},
   "outputs": [
    {
     "name": "stdout",
     "output_type": "stream",
     "text": [
      "Model: \"sequential_1\"\n",
      "_________________________________________________________________\n",
      " Layer (type)                Output Shape              Param #   \n",
      "=================================================================\n",
      " dense_3 (Dense)             (None, 16)                224       \n",
      "                                                                 \n",
      " dropout_2 (Dropout)         (None, 16)                0         \n",
      "                                                                 \n",
      " dense_4 (Dense)             (None, 8)                 136       \n",
      "                                                                 \n",
      " dropout_3 (Dropout)         (None, 8)                 0         \n",
      "                                                                 \n",
      " dense_5 (Dense)             (None, 2)                 18        \n",
      "                                                                 \n",
      "=================================================================\n",
      "Total params: 378\n",
      "Trainable params: 378\n",
      "Non-trainable params: 0\n",
      "_________________________________________________________________\n",
      "None\n"
     ]
    }
   ],
   "source": [
    "from keras.models import Sequential\n",
    "from keras.layers import Dense\n",
    "from tensorflow.keras.optimizers import Adam\n",
    "from keras.layers import Dropout\n",
    "from keras import regularizers\n",
    "\n",
    "# Definir una función para construir el modelo de Keras\n",
    "def create_model():\n",
    "    # Crear el modelo\n",
    "    model = Sequential()\n",
    "    model.add(Dense(16, input_dim = 13, kernel_initializer = 'normal', kernel_regularizer = regularizers.l2(0.001), activation = 'relu'))\n",
    "    model.add(Dropout(0.25))\n",
    "    model.add(Dense(8, kernel_initializer = 'normal', kernel_regularizer =r egularizers.l2(0.001), activation = 'relu'))\n",
    "    model.add(Dropout(0.25))\n",
    "    model.add(Dense(2, activation = 'softmax'))\n",
    "    \n",
    "    # Compilar el modelo\n",
    "    adam = Adam(lr = 0.001)\n",
    "    model.compile(loss = 'categorical_crossentropy', optimizer = 'rmsprop', metrics = ['accuracy'])\n",
    "    return model\n",
    "\n",
    "model = create_model()\n",
    "\n",
    "print(model.summary())"
   ]
  },
  {
   "cell_type": "code",
   "execution_count": 49,
   "metadata": {},
   "outputs": [
    {
     "name": "stdout",
     "output_type": "stream",
     "text": [
      "Epoch 1/50\n",
      "25/25 [==============================] - 0s 3ms/step - loss: 0.2535 - accuracy: 0.9298 - val_loss: 0.6082 - val_accuracy: 0.7869\n",
      "Epoch 2/50\n",
      "25/25 [==============================] - 0s 2ms/step - loss: 0.2273 - accuracy: 0.9339 - val_loss: 0.6113 - val_accuracy: 0.7705\n",
      "Epoch 3/50\n",
      "25/25 [==============================] - 0s 2ms/step - loss: 0.2145 - accuracy: 0.9380 - val_loss: 0.6244 - val_accuracy: 0.7705\n",
      "Epoch 4/50\n",
      "25/25 [==============================] - 0s 2ms/step - loss: 0.2032 - accuracy: 0.9504 - val_loss: 0.6328 - val_accuracy: 0.7705\n",
      "Epoch 5/50\n",
      "25/25 [==============================] - 0s 2ms/step - loss: 0.2023 - accuracy: 0.9380 - val_loss: 0.6457 - val_accuracy: 0.7541\n",
      "Epoch 6/50\n",
      "25/25 [==============================] - 0s 2ms/step - loss: 0.2152 - accuracy: 0.9256 - val_loss: 0.6240 - val_accuracy: 0.7869\n",
      "Epoch 7/50\n",
      "25/25 [==============================] - 0s 2ms/step - loss: 0.2596 - accuracy: 0.9091 - val_loss: 0.6197 - val_accuracy: 0.7869\n",
      "Epoch 8/50\n",
      "25/25 [==============================] - 0s 2ms/step - loss: 0.2327 - accuracy: 0.9298 - val_loss: 0.6400 - val_accuracy: 0.7869\n",
      "Epoch 9/50\n",
      "25/25 [==============================] - 0s 2ms/step - loss: 0.2347 - accuracy: 0.9298 - val_loss: 0.6322 - val_accuracy: 0.7705\n",
      "Epoch 10/50\n",
      "25/25 [==============================] - 0s 2ms/step - loss: 0.2262 - accuracy: 0.9298 - val_loss: 0.6320 - val_accuracy: 0.7705\n",
      "Epoch 11/50\n",
      "25/25 [==============================] - 0s 2ms/step - loss: 0.2521 - accuracy: 0.9504 - val_loss: 0.6331 - val_accuracy: 0.7705\n",
      "Epoch 12/50\n",
      "25/25 [==============================] - 0s 2ms/step - loss: 0.2243 - accuracy: 0.9339 - val_loss: 0.6264 - val_accuracy: 0.7869\n",
      "Epoch 13/50\n",
      "25/25 [==============================] - 0s 2ms/step - loss: 0.2788 - accuracy: 0.9174 - val_loss: 0.6271 - val_accuracy: 0.7869\n",
      "Epoch 14/50\n",
      "25/25 [==============================] - 0s 2ms/step - loss: 0.2197 - accuracy: 0.9339 - val_loss: 0.6353 - val_accuracy: 0.7869\n",
      "Epoch 15/50\n",
      "25/25 [==============================] - 0s 2ms/step - loss: 0.2294 - accuracy: 0.9380 - val_loss: 0.6337 - val_accuracy: 0.7869\n",
      "Epoch 16/50\n",
      "25/25 [==============================] - 0s 2ms/step - loss: 0.2233 - accuracy: 0.9174 - val_loss: 0.6379 - val_accuracy: 0.7869\n",
      "Epoch 17/50\n",
      "25/25 [==============================] - 0s 2ms/step - loss: 0.1915 - accuracy: 0.9504 - val_loss: 0.6502 - val_accuracy: 0.7869\n",
      "Epoch 18/50\n",
      "25/25 [==============================] - 0s 2ms/step - loss: 0.2150 - accuracy: 0.9256 - val_loss: 0.6615 - val_accuracy: 0.7869\n",
      "Epoch 19/50\n",
      "25/25 [==============================] - 0s 2ms/step - loss: 0.2018 - accuracy: 0.9545 - val_loss: 0.6539 - val_accuracy: 0.7869\n",
      "Epoch 20/50\n",
      "25/25 [==============================] - 0s 2ms/step - loss: 0.2182 - accuracy: 0.9215 - val_loss: 0.6477 - val_accuracy: 0.7869\n",
      "Epoch 21/50\n",
      "25/25 [==============================] - 0s 2ms/step - loss: 0.1961 - accuracy: 0.9256 - val_loss: 0.6564 - val_accuracy: 0.7869\n",
      "Epoch 22/50\n",
      "25/25 [==============================] - 0s 2ms/step - loss: 0.2279 - accuracy: 0.9298 - val_loss: 0.6684 - val_accuracy: 0.7705\n",
      "Epoch 23/50\n",
      "25/25 [==============================] - 0s 2ms/step - loss: 0.2515 - accuracy: 0.9132 - val_loss: 0.6845 - val_accuracy: 0.7705\n",
      "Epoch 24/50\n",
      "25/25 [==============================] - 0s 2ms/step - loss: 0.2000 - accuracy: 0.9339 - val_loss: 0.6924 - val_accuracy: 0.7705\n",
      "Epoch 25/50\n",
      "25/25 [==============================] - 0s 2ms/step - loss: 0.1725 - accuracy: 0.9504 - val_loss: 0.6983 - val_accuracy: 0.7705\n",
      "Epoch 26/50\n",
      "25/25 [==============================] - 0s 2ms/step - loss: 0.2199 - accuracy: 0.9421 - val_loss: 0.7059 - val_accuracy: 0.7705\n",
      "Epoch 27/50\n",
      "25/25 [==============================] - 0s 2ms/step - loss: 0.2014 - accuracy: 0.9504 - val_loss: 0.7096 - val_accuracy: 0.7705\n",
      "Epoch 28/50\n",
      "25/25 [==============================] - 0s 2ms/step - loss: 0.2450 - accuracy: 0.9298 - val_loss: 0.6948 - val_accuracy: 0.7705\n",
      "Epoch 29/50\n",
      "25/25 [==============================] - 0s 2ms/step - loss: 0.2007 - accuracy: 0.9504 - val_loss: 0.6999 - val_accuracy: 0.7705\n",
      "Epoch 30/50\n",
      "25/25 [==============================] - 0s 2ms/step - loss: 0.2353 - accuracy: 0.9380 - val_loss: 0.6936 - val_accuracy: 0.7705\n",
      "Epoch 31/50\n",
      "25/25 [==============================] - 0s 2ms/step - loss: 0.2189 - accuracy: 0.9463 - val_loss: 0.6974 - val_accuracy: 0.7541\n",
      "Epoch 32/50\n",
      "25/25 [==============================] - 0s 2ms/step - loss: 0.2096 - accuracy: 0.9504 - val_loss: 0.7150 - val_accuracy: 0.7705\n",
      "Epoch 33/50\n",
      "25/25 [==============================] - 0s 2ms/step - loss: 0.2160 - accuracy: 0.9298 - val_loss: 0.7039 - val_accuracy: 0.7705\n",
      "Epoch 34/50\n",
      "25/25 [==============================] - 0s 2ms/step - loss: 0.2344 - accuracy: 0.9380 - val_loss: 0.7178 - val_accuracy: 0.7541\n",
      "Epoch 35/50\n",
      "25/25 [==============================] - 0s 2ms/step - loss: 0.2214 - accuracy: 0.9256 - val_loss: 0.7311 - val_accuracy: 0.7705\n",
      "Epoch 36/50\n",
      "25/25 [==============================] - 0s 2ms/step - loss: 0.2605 - accuracy: 0.9091 - val_loss: 0.7205 - val_accuracy: 0.7705\n",
      "Epoch 37/50\n",
      "25/25 [==============================] - 0s 2ms/step - loss: 0.1946 - accuracy: 0.9504 - val_loss: 0.7145 - val_accuracy: 0.7705\n",
      "Epoch 38/50\n",
      "25/25 [==============================] - 0s 2ms/step - loss: 0.2246 - accuracy: 0.9380 - val_loss: 0.7057 - val_accuracy: 0.7869\n",
      "Epoch 39/50\n",
      "25/25 [==============================] - 0s 2ms/step - loss: 0.2073 - accuracy: 0.9298 - val_loss: 0.7090 - val_accuracy: 0.7869\n",
      "Epoch 40/50\n",
      "25/25 [==============================] - 0s 2ms/step - loss: 0.1846 - accuracy: 0.9504 - val_loss: 0.7087 - val_accuracy: 0.7869\n",
      "Epoch 41/50\n",
      "25/25 [==============================] - 0s 2ms/step - loss: 0.1912 - accuracy: 0.9421 - val_loss: 0.7473 - val_accuracy: 0.7705\n",
      "Epoch 42/50\n",
      "25/25 [==============================] - 0s 2ms/step - loss: 0.2014 - accuracy: 0.9504 - val_loss: 0.7371 - val_accuracy: 0.7705\n",
      "Epoch 43/50\n",
      "25/25 [==============================] - 0s 2ms/step - loss: 0.2141 - accuracy: 0.9545 - val_loss: 0.7476 - val_accuracy: 0.7705\n",
      "Epoch 44/50\n",
      "25/25 [==============================] - 0s 2ms/step - loss: 0.2644 - accuracy: 0.9091 - val_loss: 0.7427 - val_accuracy: 0.7705\n",
      "Epoch 45/50\n",
      "25/25 [==============================] - 0s 2ms/step - loss: 0.2350 - accuracy: 0.9174 - val_loss: 0.7551 - val_accuracy: 0.7705\n",
      "Epoch 46/50\n",
      "25/25 [==============================] - 0s 2ms/step - loss: 0.2424 - accuracy: 0.9008 - val_loss: 0.7438 - val_accuracy: 0.7705\n",
      "Epoch 47/50\n",
      "25/25 [==============================] - 0s 2ms/step - loss: 0.2087 - accuracy: 0.9421 - val_loss: 0.7407 - val_accuracy: 0.7705\n",
      "Epoch 48/50\n",
      "25/25 [==============================] - 0s 2ms/step - loss: 0.1798 - accuracy: 0.9545 - val_loss: 0.7417 - val_accuracy: 0.7705\n",
      "Epoch 49/50\n",
      "25/25 [==============================] - 0s 2ms/step - loss: 0.2010 - accuracy: 0.9463 - val_loss: 0.7643 - val_accuracy: 0.7705\n",
      "Epoch 50/50\n",
      "25/25 [==============================] - 0s 2ms/step - loss: 0.2206 - accuracy: 0.9256 - val_loss: 0.7576 - val_accuracy: 0.7705\n"
     ]
    }
   ],
   "source": [
    "# Entrenar el modelo para el conjunto de entrenamiento\n",
    "history = model.fit(X_train, Y_train, validation_data = (X_test, Y_test),epochs = 50, batch_size = 10)"
   ]
  },
  {
   "cell_type": "code",
   "execution_count": 50,
   "metadata": {},
   "outputs": [
    {
     "data": {
      "image/png": "[encoded data removed]",
      "text/plain": [
       "<Figure size 432x288 with 1 Axes>"
      ]
     },
     "metadata": {
      "needs_background": "light"
     },
     "output_type": "display_data"
    }
   ],
   "source": [
    "# Precisión del modelo\n",
    "plt.plot(history.history['accuracy'])\n",
    "plt.plot(history.history['val_accuracy'])\n",
    "plt.title('Model Accuracy')\n",
    "plt.ylabel('accuracy')\n",
    "plt.xlabel('epoch')\n",
    "plt.legend(['train', 'test'])\n",
    "plt.show()"
   ]
  },
  {
   "cell_type": "code",
   "execution_count": 39,
   "metadata": {},
   "outputs": [
    {
     "data": {
      "image/png": "[encoded data removed]",
      "text/plain": [
       "<Figure size 432x288 with 1 Axes>"
      ]
     },
     "metadata": {
      "needs_background": "light"
     },
     "output_type": "display_data"
    }
   ],
   "source": [
    "# Perdida del modelo\n",
    "plt.plot(history.history['loss'])\n",
    "plt.plot(history.history['val_loss'])\n",
    "plt.title('Model Loss')\n",
    "plt.ylabel('loss')\n",
    "plt.xlabel('epoch')\n",
    "plt.legend(['train', 'test'])\n",
    "plt.show()"
   ]
  },
  {
   "cell_type": "markdown",
   "metadata": {},
   "source": [
    "# 4. Mejorar resultados - Un problema de clasificación binaria"
   ]
  },
  {
   "cell_type": "markdown",
   "metadata": {},
   "source": [
    "A pesar de que hemos con seguido resultados prometedores, todavia tenemos una gran cantidad de error. Esto podría ser porque es muy dificil distinguir entre los varios diferentes niveles de enfermedad del conrazón (clases 1 - 4). Vamos a simplificar el problema convirtiendo los datos a un problema de clasificación binaria - enfermedad del corazón o no enfermedad del corazón."
   ]
  },
  {
   "cell_type": "code",
   "execution_count": 40,
   "metadata": {},
   "outputs": [
    {
     "name": "stdout",
     "output_type": "stream",
     "text": [
      "[1 0 0 0 1 1 1 1 0 1 0 1 0 0 0 1 0 0 1 1]\n"
     ]
    }
   ],
   "source": [
    "Y_train_binary = y_train.copy()\n",
    "Y_test_binary = y_test.copy()\n",
    "\n",
    "Y_train_binary[Y_train_binary > 0] = 1\n",
    "Y_test_binary[Y_test_binary > 0] = 1\n",
    "\n",
    "print(Y_train_binary[:20])"
   ]
  },
  {
   "cell_type": "code",
   "execution_count": 41,
   "metadata": {},
   "outputs": [
    {
     "name": "stdout",
     "output_type": "stream",
     "text": [
      "Model: \"sequential_2\"\n",
      "_________________________________________________________________\n",
      " Layer (type)                Output Shape              Param #   \n",
      "=================================================================\n",
      " dense_6 (Dense)             (None, 16)                224       \n",
      "                                                                 \n",
      " dropout_4 (Dropout)         (None, 16)                0         \n",
      "                                                                 \n",
      " dense_7 (Dense)             (None, 8)                 136       \n",
      "                                                                 \n",
      " dropout_5 (Dropout)         (None, 8)                 0         \n",
      "                                                                 \n",
      " dense_8 (Dense)             (None, 1)                 9         \n",
      "                                                                 \n",
      "=================================================================\n",
      "Total params: 369\n",
      "Trainable params: 369\n",
      "Non-trainable params: 0\n",
      "_________________________________________________________________\n",
      "None\n"
     ]
    }
   ],
   "source": [
    "# Definir un nuevo modelo de Keras para la clasificación binaria\n",
    "def create_binary_model():\n",
    "    # Crear el modelo\n",
    "    model = Sequential()\n",
    "    model.add(Dense(16, input_dim = 13, kernel_initializer = 'normal',  kernel_regularizer = regularizers.l2(0.001), activation = 'relu'))\n",
    "    model.add(Dropout(0.25))\n",
    "    model.add(Dense(8, kernel_initializer = 'normal',  kernel_regularizer = regularizers.l2(0.001), activation = 'relu'))\n",
    "    model.add(Dropout(0.25))\n",
    "    model.add(Dense(1, activation = 'sigmoid'))\n",
    "    \n",
    "    # Compilar el modelo\n",
    "    adam = Adam(lr = 0.001)\n",
    "    model.compile(loss = 'binary_crossentropy', optimizer = 'rmsprop', metrics = ['accuracy'])\n",
    "    return model\n",
    "\n",
    "binary_model = create_binary_model()\n",
    "\n",
    "print(binary_model.summary())"
   ]
  },
  {
   "cell_type": "code",
   "execution_count": 42,
   "metadata": {},
   "outputs": [
    {
     "name": "stdout",
     "output_type": "stream",
     "text": [
      "Epoch 1/50\n",
      "25/25 [==============================] - 1s 6ms/step - loss: 0.6779 - accuracy: 0.6942 - val_loss: 0.6654 - val_accuracy: 0.7213\n",
      "Epoch 2/50\n",
      "25/25 [==============================] - 0s 2ms/step - loss: 0.6432 - accuracy: 0.7479 - val_loss: 0.6349 - val_accuracy: 0.7213\n",
      "Epoch 3/50\n",
      "25/25 [==============================] - 0s 2ms/step - loss: 0.6110 - accuracy: 0.7893 - val_loss: 0.6037 - val_accuracy: 0.7541\n",
      "Epoch 4/50\n",
      "25/25 [==============================] - 0s 2ms/step - loss: 0.5732 - accuracy: 0.8306 - val_loss: 0.5682 - val_accuracy: 0.7869\n",
      "Epoch 5/50\n",
      "25/25 [==============================] - 0s 2ms/step - loss: 0.5373 - accuracy: 0.8347 - val_loss: 0.5360 - val_accuracy: 0.7705\n",
      "Epoch 6/50\n",
      "25/25 [==============================] - 0s 2ms/step - loss: 0.5145 - accuracy: 0.8182 - val_loss: 0.5119 - val_accuracy: 0.7869\n",
      "Epoch 7/50\n",
      "25/25 [==============================] - 0s 2ms/step - loss: 0.4720 - accuracy: 0.8512 - val_loss: 0.4876 - val_accuracy: 0.7869\n",
      "Epoch 8/50\n",
      "25/25 [==============================] - 0s 2ms/step - loss: 0.4582 - accuracy: 0.8554 - val_loss: 0.4695 - val_accuracy: 0.7705\n",
      "Epoch 9/50\n",
      "25/25 [==============================] - 0s 2ms/step - loss: 0.4525 - accuracy: 0.8471 - val_loss: 0.4557 - val_accuracy: 0.7705\n",
      "Epoch 10/50\n",
      "25/25 [==============================] - 0s 2ms/step - loss: 0.4135 - accuracy: 0.8471 - val_loss: 0.4408 - val_accuracy: 0.7869\n",
      "Epoch 11/50\n",
      "25/25 [==============================] - 0s 2ms/step - loss: 0.4011 - accuracy: 0.8595 - val_loss: 0.4315 - val_accuracy: 0.7869\n",
      "Epoch 12/50\n",
      "25/25 [==============================] - 0s 2ms/step - loss: 0.4046 - accuracy: 0.8554 - val_loss: 0.4221 - val_accuracy: 0.7869\n",
      "Epoch 13/50\n",
      "25/25 [==============================] - 0s 2ms/step - loss: 0.4051 - accuracy: 0.8512 - val_loss: 0.4161 - val_accuracy: 0.8033\n",
      "Epoch 14/50\n",
      "25/25 [==============================] - 0s 2ms/step - loss: 0.3905 - accuracy: 0.8595 - val_loss: 0.4078 - val_accuracy: 0.8197\n",
      "Epoch 15/50\n",
      "25/25 [==============================] - 0s 2ms/step - loss: 0.3703 - accuracy: 0.8802 - val_loss: 0.4039 - val_accuracy: 0.8197\n",
      "Epoch 16/50\n",
      "25/25 [==============================] - 0s 2ms/step - loss: 0.3919 - accuracy: 0.8512 - val_loss: 0.4044 - val_accuracy: 0.8197\n",
      "Epoch 17/50\n",
      "25/25 [==============================] - 0s 2ms/step - loss: 0.3679 - accuracy: 0.8719 - val_loss: 0.4032 - val_accuracy: 0.8197\n",
      "Epoch 18/50\n",
      "25/25 [==============================] - 0s 2ms/step - loss: 0.3800 - accuracy: 0.8554 - val_loss: 0.4035 - val_accuracy: 0.8197\n",
      "Epoch 19/50\n",
      "25/25 [==============================] - 0s 2ms/step - loss: 0.3722 - accuracy: 0.8554 - val_loss: 0.4017 - val_accuracy: 0.8197\n",
      "Epoch 20/50\n",
      "25/25 [==============================] - 0s 2ms/step - loss: 0.3408 - accuracy: 0.8802 - val_loss: 0.4021 - val_accuracy: 0.8197\n",
      "Epoch 21/50\n",
      "25/25 [==============================] - 0s 2ms/step - loss: 0.3718 - accuracy: 0.8636 - val_loss: 0.4032 - val_accuracy: 0.8197\n",
      "Epoch 22/50\n",
      "25/25 [==============================] - 0s 2ms/step - loss: 0.3608 - accuracy: 0.8719 - val_loss: 0.4043 - val_accuracy: 0.8197\n",
      "Epoch 23/50\n",
      "25/25 [==============================] - 0s 2ms/step - loss: 0.3556 - accuracy: 0.8719 - val_loss: 0.4034 - val_accuracy: 0.8197\n",
      "Epoch 24/50\n",
      "25/25 [==============================] - 0s 2ms/step - loss: 0.3308 - accuracy: 0.8843 - val_loss: 0.4026 - val_accuracy: 0.8197\n",
      "Epoch 25/50\n",
      "25/25 [==============================] - 0s 2ms/step - loss: 0.3314 - accuracy: 0.8595 - val_loss: 0.4036 - val_accuracy: 0.8197\n",
      "Epoch 26/50\n",
      "25/25 [==============================] - 0s 2ms/step - loss: 0.3614 - accuracy: 0.8802 - val_loss: 0.4038 - val_accuracy: 0.8197\n",
      "Epoch 27/50\n",
      "25/25 [==============================] - 0s 2ms/step - loss: 0.3567 - accuracy: 0.8678 - val_loss: 0.4039 - val_accuracy: 0.8197\n",
      "Epoch 28/50\n",
      "25/25 [==============================] - 0s 2ms/step - loss: 0.3754 - accuracy: 0.8471 - val_loss: 0.4012 - val_accuracy: 0.8197\n",
      "Epoch 29/50\n",
      "25/25 [==============================] - 0s 2ms/step - loss: 0.3591 - accuracy: 0.8719 - val_loss: 0.4047 - val_accuracy: 0.8197\n",
      "Epoch 30/50\n",
      "25/25 [==============================] - 0s 2ms/step - loss: 0.3371 - accuracy: 0.8802 - val_loss: 0.4068 - val_accuracy: 0.8197\n",
      "Epoch 31/50\n",
      "25/25 [==============================] - 0s 2ms/step - loss: 0.3262 - accuracy: 0.8843 - val_loss: 0.4055 - val_accuracy: 0.8197\n",
      "Epoch 32/50\n",
      "25/25 [==============================] - 0s 2ms/step - loss: 0.3306 - accuracy: 0.8719 - val_loss: 0.4067 - val_accuracy: 0.8361\n",
      "Epoch 33/50\n",
      "25/25 [==============================] - 0s 2ms/step - loss: 0.3347 - accuracy: 0.8554 - val_loss: 0.4053 - val_accuracy: 0.8361\n",
      "Epoch 34/50\n",
      "25/25 [==============================] - 0s 2ms/step - loss: 0.3591 - accuracy: 0.8595 - val_loss: 0.4055 - val_accuracy: 0.8361\n",
      "Epoch 35/50\n",
      "25/25 [==============================] - 0s 2ms/step - loss: 0.3482 - accuracy: 0.8678 - val_loss: 0.4061 - val_accuracy: 0.8361\n",
      "Epoch 36/50\n",
      "25/25 [==============================] - 0s 2ms/step - loss: 0.3364 - accuracy: 0.8843 - val_loss: 0.4113 - val_accuracy: 0.8361\n",
      "Epoch 37/50\n",
      "25/25 [==============================] - 0s 2ms/step - loss: 0.3537 - accuracy: 0.8802 - val_loss: 0.4099 - val_accuracy: 0.8361\n",
      "Epoch 38/50\n",
      "25/25 [==============================] - 0s 2ms/step - loss: 0.3325 - accuracy: 0.8512 - val_loss: 0.4130 - val_accuracy: 0.8361\n",
      "Epoch 39/50\n",
      "25/25 [==============================] - 0s 2ms/step - loss: 0.3560 - accuracy: 0.8595 - val_loss: 0.4140 - val_accuracy: 0.8361\n",
      "Epoch 40/50\n",
      "25/25 [==============================] - 0s 2ms/step - loss: 0.3392 - accuracy: 0.8719 - val_loss: 0.4149 - val_accuracy: 0.8361\n",
      "Epoch 41/50\n",
      "25/25 [==============================] - 0s 2ms/step - loss: 0.3354 - accuracy: 0.8719 - val_loss: 0.4134 - val_accuracy: 0.8361\n",
      "Epoch 42/50\n",
      "25/25 [==============================] - 0s 2ms/step - loss: 0.3366 - accuracy: 0.8884 - val_loss: 0.4136 - val_accuracy: 0.8361\n",
      "Epoch 43/50\n",
      "25/25 [==============================] - 0s 2ms/step - loss: 0.3418 - accuracy: 0.8678 - val_loss: 0.4142 - val_accuracy: 0.8361\n",
      "Epoch 44/50\n",
      "25/25 [==============================] - 0s 2ms/step - loss: 0.3448 - accuracy: 0.8802 - val_loss: 0.4153 - val_accuracy: 0.8361\n",
      "Epoch 45/50\n",
      "25/25 [==============================] - 0s 2ms/step - loss: 0.3267 - accuracy: 0.8802 - val_loss: 0.4176 - val_accuracy: 0.8361\n",
      "Epoch 46/50\n",
      "25/25 [==============================] - 0s 2ms/step - loss: 0.3405 - accuracy: 0.8843 - val_loss: 0.4191 - val_accuracy: 0.8361\n",
      "Epoch 47/50\n",
      "25/25 [==============================] - 0s 2ms/step - loss: 0.3241 - accuracy: 0.8884 - val_loss: 0.4198 - val_accuracy: 0.8361\n",
      "Epoch 48/50\n",
      "25/25 [==============================] - 0s 2ms/step - loss: 0.3348 - accuracy: 0.8760 - val_loss: 0.4202 - val_accuracy: 0.8361\n",
      "Epoch 49/50\n",
      "25/25 [==============================] - 0s 2ms/step - loss: 0.3336 - accuracy: 0.8636 - val_loss: 0.4225 - val_accuracy: 0.8361\n",
      "Epoch 50/50\n",
      "25/25 [==============================] - 0s 2ms/step - loss: 0.3650 - accuracy: 0.8512 - val_loss: 0.4226 - val_accuracy: 0.8361\n"
     ]
    }
   ],
   "source": [
    "# Entrenar el modelo binario con los datos de entramiento\n",
    "history = binary_model.fit(X_train, Y_train_binary, validation_data = (X_test, Y_test_binary), epochs = 50, batch_size = 10)"
   ]
  },
  {
   "cell_type": "code",
   "execution_count": 43,
   "metadata": {},
   "outputs": [
    {
     "data": {
      "image/png": "[encoded data removed]",
      "text/plain": [
       "<Figure size 432x288 with 1 Axes>"
      ]
     },
     "metadata": {
      "needs_background": "light"
     },
     "output_type": "display_data"
    }
   ],
   "source": [
    "# Precisión del modelo\n",
    "plt.plot(history.history['accuracy'])\n",
    "plt.plot(history.history['val_accuracy'])\n",
    "plt.title('Model Accuracy')\n",
    "plt.ylabel('accuracy')\n",
    "plt.xlabel('epoch')\n",
    "plt.legend(['train', 'test'])\n",
    "plt.show()"
   ]
  },
  {
   "cell_type": "code",
   "execution_count": 44,
   "metadata": {},
   "outputs": [
    {
     "data": {
      "image/png": "[encoded data removed]",
      "text/plain": [
       "<Figure size 432x288 with 1 Axes>"
      ]
     },
     "metadata": {
      "needs_background": "light"
     },
     "output_type": "display_data"
    }
   ],
   "source": [
    "# Perdida del modelo\n",
    "plt.plot(history.history['loss'])\n",
    "plt.plot(history.history['val_loss'])\n",
    "plt.title('Model Loss')\n",
    "plt.ylabel('loss')\n",
    "plt.xlabel('epoch')\n",
    "plt.legend(['train', 'test'])\n",
    "plt.show()"
   ]
  },
  {
   "cell_type": "markdown",
   "metadata": {},
   "source": [
    "# 5. Resultados y métricas"
   ]
  },
  {
   "cell_type": "markdown",
   "metadata": {},
   "source": [
    "Los resultados de precisión que hemos visto son para el conjunto de entrenamiento pero, ¿Qué ocurre con el dataset de pruebas?, Si nuestro modelo no puede generalizar en datos que no han sido usandos para entrenarlo no hemos dado niinguna utilidad.\n",
    "\n",
    "Vamos a probar el rendimiento de ambos modelos, cateorico y binario. Para hacer esto, haremos predicciones en el conjunto de pruebas y calcularemos las métricas de rendimiento usando Skalern."
   ]
  },
  {
   "cell_type": "code",
   "execution_count": 46,
   "metadata": {},
   "outputs": [
    {
     "name": "stdout",
     "output_type": "stream",
     "text": [
      "Results for Categorical Model\n",
      "0.7540983606557377\n",
      "              precision    recall  f1-score   support\n",
      "\n",
      "           0       0.76      0.68      0.72        28\n",
      "           1       0.75      0.82      0.78        33\n",
      "\n",
      "    accuracy                           0.75        61\n",
      "   macro avg       0.76      0.75      0.75        61\n",
      "weighted avg       0.75      0.75      0.75        61\n",
      "\n"
     ]
    }
   ],
   "source": [
    "# Generar el reporte de clasificación usando predicciones para el modelo categórico\n",
    "from sklearn.metrics import classification_report, accuracy_score\n",
    "\n",
    "categorical_pred = np.argmax(model.predict(X_test), axis = 1)\n",
    "\n",
    "print('Results for Categorical Model')\n",
    "print(accuracy_score(y_test, categorical_pred))\n",
    "print(classification_report(y_test, categorical_pred))"
   ]
  },
  {
   "cell_type": "code",
   "execution_count": 47,
   "metadata": {},
   "outputs": [
    {
     "name": "stdout",
     "output_type": "stream",
     "text": [
      "Results for Binary Model\n",
      "0.8360655737704918\n",
      "              precision    recall  f1-score   support\n",
      "\n",
      "           0       0.95      0.68      0.79        28\n",
      "           1       0.78      0.97      0.86        33\n",
      "\n",
      "    accuracy                           0.84        61\n",
      "   macro avg       0.87      0.82      0.83        61\n",
      "weighted avg       0.86      0.84      0.83        61\n",
      "\n"
     ]
    }
   ],
   "source": [
    "# Generar el reporte de clasificación usando predicciones para el modelo binario\n",
    "from sklearn.metrics import classification_report, accuracy_score\n",
    "\n",
    "binary_pred = np.round(binary_model.predict(X_test)).astype(int)\n",
    "\n",
    "print('Results for Binary Model')\n",
    "print(accuracy_score(Y_test_binary, binary_pred))\n",
    "print(classification_report(Y_test_binary, binary_pred))"
   ]
  },
  {
   "cell_type": "markdown",
   "metadata": {},
   "source": [
    "Como conclusión podemos ver que el rendimiento del modelo binario es mayor al del modelo categórico, aportando la utilidad de predicción de los mismos. El porqué tiene un mayor rendimiento el modelo binario se podría explicar, como ya se ha mencionado por la dificicultad de predecir el tipo de nivel de enfermedad del corazón en el modelo categórico."
   ]
  }
 ],
 "metadata": {
  "interpreter": {
   "hash": "aee8b7b246df8f9039afb4144a1f6fd8d2ca17a180786b69acc140d282b71a49"
  },
  "kernelspec": {
   "display_name": "Python 3 (ipykernel)",
   "language": "python",
   "name": "python3"
  },
  "language_info": {
   "codemirror_mode": {
    "name": "ipython",
    "version": 3
   },
   "file_extension": ".py",
   "mimetype": "text/x-python",
   "name": "python",
   "nbconvert_exporter": "python",
   "pygments_lexer": "ipython3",
   "version": "3.9.5"
  }
 },
 "nbformat": 4,
 "nbformat_minor": 4
}
