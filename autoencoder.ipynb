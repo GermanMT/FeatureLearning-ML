{
 "cells": [
  {
   "cell_type": "markdown",
   "id": "09823576-3116-4199-b88b-6842d65b9fac",
   "metadata": {},
   "source": [
    "## Importando librerías a usar"
   ]
  },
  {
   "cell_type": "code",
   "execution_count": 6,
   "id": "ffd1a914-7f41-4bab-91f0-6ba2da51615b",
   "metadata": {},
   "outputs": [],
   "source": [
    "from keras.models import Model\n",
    "from keras.layers import Input, Dense, Conv2D, MaxPooling2D, UpSampling2D\n",
    "from keras.preprocessing.image import ImageDataGenerator\n",
    "from keras.callbacks import LearningRateScheduler\n",
    "import os, gc, zipfile\n",
    "import numpy as np, pandas as pd\n",
    "from PIL import Image\n",
    "import matplotlib.pyplot as plt"
   ]
  },
  {
   "cell_type": "markdown",
   "id": "c7d93449-8530-4fe4-9731-9441d4368cc2",
   "metadata": {},
   "source": [
    "## Importando y procesando todas las imagenes"
   ]
  },
  {
   "cell_type": "markdown",
   "id": "fc99dc5d-70d4-425b-b7e2-0859825404e2",
   "metadata": {},
   "source": [
    "Descomprimir en la carpeta multilayer el zip que se encuentra en el siguiente enlace: https://drive.google.com/file/d/1xZM7b8Jqq9Wu0GdpGYI8wym8z4vG0789/view?usp=sharing\n",
    "\n",
    "Una vez acabado eliminar el zip para evitar problemas de rutas."
   ]
  },
  {
   "cell_type": "code",
   "execution_count": 25,
   "id": "79041a85-9e57-440a-8af2-33e5235043fb",
   "metadata": {},
   "outputs": [
    {
     "name": "stdout",
     "output_type": "stream",
     "text": [
      "There are 20579 images. Here are 5 example filesnames:\n",
      "['n02105056_26.jpg', 'n02088632_3993.jpg', 'n02096051_738.jpg', 'n02097047_6503.jpg', 'n02115641_4262.jpg']\n"
     ]
    }
   ],
   "source": [
    "# Ejemplo de imágenes\n",
    "PATH = './datasets/multilayer/all-dogs/'\n",
    "IMAGES = os.listdir(PATH)\n",
    "print('There are', len(IMAGES), 'images. Here are 5 example filesnames:')\n",
    "print(IMAGES[:5])"
   ]
  },
  {
   "cell_type": "markdown",
   "id": "b701ca27-a181-47b0-a962-ddeb2e1ea102",
   "metadata": {},
   "source": [
    "Vamos a recortar aleatoriamente las 20.000 imágenes originales y hacer 500.000 nuevas imágenes de entrenamiento."
   ]
  },
  {
   "cell_type": "code",
   "execution_count": null,
   "id": "ab206b09-698e-4b12-9350-3a27db3ec6d2",
   "metadata": {},
   "outputs": [
    {
     "name": "stdout",
     "output_type": "stream",
     "text": [
      "created 0 cropped images\n"
     ]
    }
   ],
   "source": [
    "if os.path.isdir('./tmp'):\n",
    "    os.rmdir('./tmp')\n",
    "\n",
    "os.mkdir('./tmp')\n",
    "\n",
    "tmp = './tmp/'\n",
    "\n",
    "# Creación de imágenes aleatorias\n",
    "for i in range(500000):\n",
    "    img = Image.open(PATH + IMAGES[i % len(IMAGES)])\n",
    "    img = img.resize((100, int(img.size[1] / (img.size[0] / 100))), Image.ANTIALIAS)\n",
    "    w = img.size[0]; h = img.size[1]; a = 0; b = 0\n",
    "    if w > 64: a = np.random.randint(0, w - 64)\n",
    "    if h > 64: b = np.random.randint(0, h - 64)\n",
    "    img = img.crop((a, b, 64 + a, 64 + b))\n",
    "    img.save('./tmp/' + str(i) + '.png', 'PNG')\n",
    "    if i % 100000 == 0: print('created', i, 'cropped images')\n",
    "print('created 500000 cropped images')"
   ]
  },
  {
   "cell_type": "code",
   "execution_count": 2,
   "id": "d65094ee-4ca7-464e-824a-e058216b5134",
   "metadata": {},
   "outputs": [
    {
     "name": "stdout",
     "output_type": "stream",
     "text": [
      "Found 20579 images belonging to 1 classes.\n"
     ]
    }
   ],
   "source": [
    "BATCH_SIZE = 256; EPOCHS = 10\n",
    "train_datagen = ImageDataGenerator(rescale=1./255)\n",
    "train_batches = train_datagen.flow_from_directory('./tmp/',\n",
    "        target_size=(64,64), shuffle=True, class_mode='input', batch_size=BATCH_SIZE)"
   ]
  },
  {
   "cell_type": "markdown",
   "id": "c86f27f8-4145-40c9-b203-51ea04d3605d",
   "metadata": {},
   "source": [
    "# 1. Construir el autoencoder"
   ]
  },
  {
   "cell_type": "code",
   "execution_count": 5,
   "id": "3c13a311-a899-4de1-a40b-1033136a4af0",
   "metadata": {},
   "outputs": [],
   "source": [
    "# Codificar\n",
    "input_img = Input(shape = (64, 64, 3))  \n",
    "x = Conv2D(48, (3, 3), activation = 'relu', padding = 'same')(input_img)\n",
    "x = MaxPooling2D((2, 2), padding = 'same')(x)\n",
    "x = Conv2D(96, (3, 3), activation = 'relu', padding = 'same')(x)\n",
    "x = MaxPooling2D((2, 2), padding = 'same')(x)\n",
    "x = Conv2D(192, (3, 3), activation = 'relu', padding = 'same')(x)\n",
    "x = MaxPooling2D((2, 2), padding = 'same')(x)\n",
    "encoded = Conv2D(32, (1, 1), activation = 'relu', padding = 'same')(x)\n",
    "\n",
    "# Espacio latente\n",
    "latentSize = (8,8,32)\n",
    "\n",
    "# Decodificar\n",
    "direct_input = Input(shape = latentSize)\n",
    "x = Conv2D(192, (1, 1), activation = 'relu', padding = 'same')(direct_input)\n",
    "x = UpSampling2D((2, 2))(x)\n",
    "x = Conv2D(192, (3, 3), activation = 'relu', padding = 'same')(x)\n",
    "x = UpSampling2D((2, 2))(x)\n",
    "x = Conv2D(96, (3, 3), activation = 'relu', padding = 'same')(x)\n",
    "x = UpSampling2D((2, 2))(x)\n",
    "x = Conv2D(48, (3, 3), activation = 'relu', padding = 'same')(x)\n",
    "decoded = Conv2D(3, (3, 3), activation = 'sigmoid', padding = 'same')(x)\n",
    "\n",
    "# Compilar\n",
    "encoder = Model(input_img, encoded)\n",
    "decoder = Model(direct_input, decoded)\n",
    "autoencoder = Model(input_img, decoder(encoded))\n",
    "\n",
    "autoencoder.compile(optimizer = 'Adam', loss = 'binary_crossentropy')"
   ]
  },
  {
   "cell_type": "markdown",
   "id": "e6e27a8c-4644-40f0-95bc-832f54ca71eb",
   "metadata": {},
   "source": [
    "# 2. Entrenar el autoencoder"
   ]
  },
  {
   "cell_type": "code",
   "execution_count": null,
   "id": "64ca8272-25c3-4d41-8a92-dfba545dbea4",
   "metadata": {},
   "outputs": [
    {
     "name": "stdout",
     "output_type": "stream",
     "text": [
      "Epoch 1/10\n"
     ]
    }
   ],
   "source": [
    "history = autoencoder.fit(train_batches,\n",
    "        steps_per_epoch = train_batches.samples // BATCH_SIZE,\n",
    "        epochs = EPOCHS, verbose = 2)"
   ]
  },
  {
   "cell_type": "markdown",
   "id": "0901da2b-e356-491c-bfd2-9ae90c069709",
   "metadata": {},
   "source": [
    "# 3. Ver la reconstrucción"
   ]
  },
  {
   "cell_type": "markdown",
   "id": "f3419e46-a07b-4b8d-8b2b-a891211c3085",
   "metadata": {},
   "source": [
    "Nuestro codificador trabaja mapeando imagenes desde un espacio dimensional de 12288(64 x64 x3) a un espacio dimensional de 2048 (imagen latente). Esto es un ratio de compresión x6. Y nuestro decodificador trabaja mapeando nuestra imagen latente hacía atras hasta el espacio dimensional de 12288."
   ]
  },
  {
   "cell_type": "code",
   "execution_count": 1,
   "id": "66238cdb-1280-4851-b7b1-c63fe1e73211",
   "metadata": {},
   "outputs": [
    {
     "ename": "NameError",
     "evalue": "name 'train_batches' is not defined",
     "output_type": "error",
     "traceback": [
      "\u001b[0;31m---------------------------------------------------------------------------\u001b[0m",
      "\u001b[0;31mNameError\u001b[0m                                 Traceback (most recent call last)",
      "Input \u001b[0;32mIn [1]\u001b[0m, in \u001b[0;36m<module>\u001b[0;34m\u001b[0m\n\u001b[0;32m----> 1\u001b[0m images \u001b[38;5;241m=\u001b[39m \u001b[38;5;28mnext\u001b[39m(\u001b[38;5;28miter\u001b[39m(\u001b[43mtrain_batches\u001b[49m))[\u001b[38;5;241m0\u001b[39m]\n\u001b[1;32m      2\u001b[0m \u001b[38;5;28;01mfor\u001b[39;00m i \u001b[38;5;129;01min\u001b[39;00m \u001b[38;5;28mrange\u001b[39m(\u001b[38;5;241m5\u001b[39m):\n\u001b[1;32m      4\u001b[0m     plt\u001b[38;5;241m.\u001b[39mfigure(figsize\u001b[38;5;241m=\u001b[39m(\u001b[38;5;241m15\u001b[39m,\u001b[38;5;241m5\u001b[39m))\n",
      "\u001b[0;31mNameError\u001b[0m: name 'train_batches' is not defined"
     ]
    }
   ],
   "source": [
    "images = next(iter(train_batches))[0]\n",
    "for i in range(5):\n",
    "\n",
    "    plt.figure(figsize = (15, 5))\n",
    "    plt.subplot(1, 3, 1)\n",
    "    \n",
    "    # Imagen original\n",
    "    orig = images[i, :, :, :].reshape((-1, 64, 64, 3))\n",
    "    img = Image.fromarray( (255 * orig).astype('uint8').reshape((64, 64, 3)))\n",
    "    plt.title('Original')\n",
    "    plt.imshow(img)\n",
    "\n",
    "    # Imagen latente\n",
    "    latent_img = encoder.predict(orig)\n",
    "    mx = np.max(latent_img[0])\n",
    "    mn = np.min(latent_img[0])\n",
    "    latent_flat = ((latent_img[0] - mn) * 255/(mx - mn)).flatten(order = 'F')\n",
    "    img = Image.fromarray(latent_flat[:2025].astype('uint8').reshape((45, 45)), mode = 'L') \n",
    "    plt.subplot(1, 3, 2)\n",
    "    plt.title('Latent')\n",
    "    plt.xlim((-10, 55))\n",
    "    plt.ylim((-10, 55))\n",
    "    plt.axis('off')\n",
    "    plt.imshow(img)\n",
    "\n",
    "    # Imagen reconstruida\n",
    "    decoded_imgs = decoder.predict(latent_img[0].reshape((-1, latentSize[0], latentSize[1], latentSize[2])))\n",
    "    img = Image.fromarray( (255 * decoded_imgs[0]).astype('uint8').reshape((64, 64, 3)))\n",
    "    plt.subplot(1, 3, 3)\n",
    "    plt.title('Reconstructed')\n",
    "    plt.imshow(img)\n",
    "    \n",
    "    plt.show()"
   ]
  },
  {
   "cell_type": "markdown",
   "id": "8130e82d-fb1c-4e6f-af22-064ca38ba836",
   "metadata": {},
   "source": [
    "# 4. Generación de perros"
   ]
  },
  {
   "cell_type": "code",
   "execution_count": null,
   "id": "bab06d60-2c14-42e2-bbbd-6117bed94a68",
   "metadata": {},
   "outputs": [],
   "source": [
    "# Genera 1000 imágenes recortadas\n",
    "x = np.random.choice(np.arange(20000), 10000)\n",
    "images = np.zeros((10000, 64, 64, 3))\n",
    "for i in range(len(x)):\n",
    "    img = Image.open(PATH + IMAGES[x[i]])\n",
    "    img = img.resize((100, int(img.size[1] / (img.size[0] / 100))), Image.ANTIALIAS)\n",
    "    img = img.crop((18, 0, 82, 64))\n",
    "    images[i, :, :, :] = np.asarray(img).astype('float32') / 255.\n",
    "        \n",
    "# Calcula el elipsoide a partir de 1000 imágenes     \n",
    "encoded_imgs = encoder.predict(images)\n",
    "sz = latentSize[0] * latentSize[1] * latentSize[2]\n",
    "encoded_imgs = encoded_imgs.reshape((-1, sz))\n",
    "mm = np.mean(encoded_imgs, axis = 0)\n",
    "ss = np.cov(encoded_imgs, rowvar = False)\n",
    "\n",
    "# Genera 9 imágenes random de perros\n",
    "generated = np.random.multivariate_normal(mm,ss,9)\n",
    "generated = generated.reshape((-1,latentSize[0],latentSize[1],latentSize[2]))"
   ]
  },
  {
   "cell_type": "code",
   "execution_count": 1,
   "id": "743fea74-4c1d-4ad8-ac86-530d758380d3",
   "metadata": {},
   "outputs": [
    {
     "ename": "NameError",
     "evalue": "name 'plt' is not defined",
     "output_type": "error",
     "traceback": [
      "\u001b[0;31m---------------------------------------------------------------------------\u001b[0m",
      "\u001b[0;31mNameError\u001b[0m                                 Traceback (most recent call last)",
      "Input \u001b[0;32mIn [1]\u001b[0m, in \u001b[0;36m<module>\u001b[0;34m\u001b[0m\n\u001b[1;32m      1\u001b[0m \u001b[38;5;66;03m# PLOT 9 RANDOM DOG IMAGES\u001b[39;00m\n\u001b[1;32m      2\u001b[0m \u001b[38;5;28;01mfor\u001b[39;00m k \u001b[38;5;129;01min\u001b[39;00m \u001b[38;5;28mrange\u001b[39m(\u001b[38;5;241m3\u001b[39m):\n\u001b[0;32m----> 3\u001b[0m     \u001b[43mplt\u001b[49m\u001b[38;5;241m.\u001b[39mfigure(figsize\u001b[38;5;241m=\u001b[39m(\u001b[38;5;241m15\u001b[39m,\u001b[38;5;241m5\u001b[39m))\n\u001b[1;32m      4\u001b[0m     plt\u001b[38;5;241m.\u001b[39msubplot(\u001b[38;5;241m1\u001b[39m,\u001b[38;5;241m3\u001b[39m,\u001b[38;5;241m1\u001b[39m)\n\u001b[1;32m      5\u001b[0m     decoded_imgs \u001b[38;5;241m=\u001b[39m decoder\u001b[38;5;241m.\u001b[39mpredict(generated[k\u001b[38;5;241m*\u001b[39m\u001b[38;5;241m3\u001b[39m]\u001b[38;5;241m.\u001b[39mreshape((\u001b[38;5;241m-\u001b[39m\u001b[38;5;241m1\u001b[39m,latentSize[\u001b[38;5;241m0\u001b[39m],latentSize[\u001b[38;5;241m1\u001b[39m],latentSize[\u001b[38;5;241m2\u001b[39m])))\n",
      "\u001b[0;31mNameError\u001b[0m: name 'plt' is not defined"
     ]
    }
   ],
   "source": [
    "# Muestra esas 9 imágenes\n",
    "for k in range(3):\n",
    "    plt.figure(figsize = (15, 5))\n",
    "    plt.subplot(1, 3, 1)\n",
    "    decoded_imgs = decoder.predict(generated[k * 3].reshape((-1, latentSize[0], latentSize[1], latentSize[2])))\n",
    "    img = Image.fromarray( (255 * decoded_imgs[0]).astype('uint8').reshape((64, 64, 3)))\n",
    "    plt.imshow(img)\n",
    "    plt.subplot(1, 3, 2)\n",
    "    decoded_imgs = decoder.predict(generated[k * 3 + 1].reshape((-1, latentSize[0], latentSize[1], latentSize[2])))\n",
    "    img = Image.fromarray( (255 * decoded_imgs[0]).astype('uint8').reshape((64, 64, 3)))\n",
    "    plt.imshow(img)\n",
    "    plt.subplot(1, 3, 3)\n",
    "    decoded_imgs = decoder.predict(generated[k * 3 + 2].reshape((-1, latentSize[0], latentSize[1], latentSize[2])))\n",
    "    img = Image.fromarray( (255 * decoded_imgs[0]).astype('uint8').reshape((64, 64, 3)))\n",
    "    plt.imshow(img)\n",
    "    plt.show()"
   ]
  },
  {
   "cell_type": "markdown",
   "id": "89b044de-4c13-462e-ba0a-12c2565278b2",
   "metadata": {},
   "source": [
    "# 5. Generar mejores perros"
   ]
  },
  {
   "cell_type": "markdown",
   "id": "982d5c41-06bd-4a2e-a530-d0033d1783b7",
   "metadata": {},
   "source": [
    "Las imágenes de perros generadas no son muy reconocibles. En vez de escoger puntos randoms en el espacio latente, vamos a escoger puntos cercanos a las imágenes de entrenamiento."
   ]
  },
  {
   "cell_type": "code",
   "execution_count": null,
   "id": "819969bd-16f9-40a1-8dbd-4893dcff2dad",
   "metadata": {},
   "outputs": [],
   "source": [
    "# Distancia a moverse desde las imagenes de entrenamiento existentes\n",
    "beta = 0.35\n",
    "\n",
    "# Genera 9 imágenes random de perros\n",
    "generated = np.random.multivariate_normal(mm, ss, 9)\n",
    "generated = beta * generated + (1 - beta) * encoded_imgs[:9]"
   ]
  },
  {
   "cell_type": "code",
   "execution_count": null,
   "id": "2a5a3542-68c5-4677-b70f-aa463f9eef41",
   "metadata": {},
   "outputs": [],
   "source": [
    "# Muestra esas 9 imágenes\n",
    "for k in range(3):\n",
    "    plt.figure(figsize = (15, 5))\n",
    "    plt.subplot(1, 3, 1)\n",
    "    decoded_imgs = decoder.predict(generated[k * 3].reshape((-1, latentSize[0], latentSize[1], latentSize[2])))\n",
    "    img = Image.fromarray( (255 * decoded_imgs[0]).astype('uint8').reshape((64, 64, 3)))\n",
    "    plt.imshow(img)\n",
    "    plt.subplot(1, 3, 2)\n",
    "    decoded_imgs = decoder.predict(generated[k * 3 + 1].reshape((-1, latentSize[0], latentSize[1], latentSize[2])))\n",
    "    img = Image.fromarray( (255 * decoded_imgs[0]).astype('uint8').reshape((64, 64, 3)))\n",
    "    plt.imshow(img)\n",
    "    plt.subplot(1,3,3)\n",
    "    decoded_imgs = decoder.predict(generated[k * 3 + 2].reshape((-1, latentSize[0], latentSize[1], latentSize[2])))\n",
    "    img = Image.fromarray( (255 * decoded_imgs[0]).astype('uint8').reshape((64, 64, 3)))\n",
    "    plt.imshow(img)\n",
    "    plt.show()"
   ]
  },
  {
   "cell_type": "markdown",
   "id": "13f18f7e-9642-4144-b5fe-5142b56ea527",
   "metadata": {},
   "source": [
    "# 6. Resultados"
   ]
  },
  {
   "cell_type": "markdown",
   "id": "23fdb752-937a-4f5e-b587-27d1befa880d",
   "metadata": {},
   "source": [
    "Se puede visualizar la calidad del autoencoder obtenido pidiendole que genere una cantidad de imagenes totalmente nuevas. "
   ]
  },
  {
   "cell_type": "code",
   "execution_count": null,
   "id": "bdb5b368-ad85-4855-a2c0-728fd16db3d9",
   "metadata": {},
   "outputs": [],
   "source": [
    "beta = 0.2\n",
    "\n",
    "# Genera 100 imagenes de perros random\n",
    "generated = np.random.multivariate_normal(mm, ss, 10000)\n",
    "encoded_imgs = beta * generated + (1 - beta) * encoded_imgs\n",
    "decoded_imgs = decoder.predict(encoded_imgs.reshape((-1, latentSize[0], latentSize[1], latentSize[2])))\n",
    "decoded_imgs.shape"
   ]
  },
  {
   "cell_type": "code",
   "execution_count": null,
   "id": "43b879f1-c5b0-4c6d-8475-e50444ff6391",
   "metadata": {},
   "outputs": [],
   "source": [
    "# Se guarda en un archivo zip llamado 'images.zip'\n",
    "z = zipfile.PyZipFile('images.zip', mode = 'w')\n",
    "for k in range(100):\n",
    "    img = Image.fromarray( (255 * decoded_imgs[k]).astype('uint8').reshape((64, 64, 3)))   \n",
    "    f = str(k) + '.png'\n",
    "    img.save(f, 'PNG'); z.write(f); os.remove(f)\n",
    "z.close()"
   ]
  }
 ],
 "metadata": {
  "kernelspec": {
   "display_name": "Python 3 (ipykernel)",
   "language": "python",
   "name": "python3"
  },
  "language_info": {
   "codemirror_mode": {
    "name": "ipython",
    "version": 3
   },
   "file_extension": ".py",
   "mimetype": "text/x-python",
   "name": "python",
   "nbconvert_exporter": "python",
   "pygments_lexer": "ipython3",
   "version": "3.9.2"
  }
 },
 "nbformat": 4,
 "nbformat_minor": 5
}
